{
 "cells": [
  {
   "cell_type": "code",
   "execution_count": null,
   "metadata": {},
   "outputs": [
    {
     "data": {
      "application/vnd.jupyter.widget-view+json": {
       "model_id": "a1264c6a700d4e3589a6e25cd9d12217",
       "version_major": 2,
       "version_minor": 0
      },
      "text/plain": [
       "Dropdown(description='City:', options=('Barima Waini', 'Cuyuni/mazaruni', 'Demerara Mahaica', 'East Berbice/co…"
      ]
     },
     "metadata": {},
     "output_type": "display_data"
    },
    {
     "data": {
      "application/vnd.jupyter.widget-view+json": {
       "model_id": "5b5f8e91ab9946c5b2b726694861e563",
       "version_major": 2,
       "version_minor": 0
      },
      "text/plain": [
       "DatePicker(value=datetime.date(1984, 3, 16), description='Start Date', step=1)"
      ]
     },
     "metadata": {},
     "output_type": "display_data"
    },
    {
     "data": {
      "application/vnd.jupyter.widget-view+json": {
       "model_id": "47cbc414c8b6418d9583c13d2f252e3a",
       "version_major": 2,
       "version_minor": 0
      },
      "text/plain": [
       "DatePicker(value=datetime.date(2024, 12, 31), description='End Date', step=1)"
      ]
     },
     "metadata": {},
     "output_type": "display_data"
    },
    {
     "data": {
      "application/vnd.jupyter.widget-view+json": {
       "model_id": "09200ce13a0b4fff8a3950cd53c0f39a",
       "version_major": 2,
       "version_minor": 0
      },
      "text/plain": [
       "BoundedFloatText(value=10.0, description='Low-Lying Level (m)', step=1.0)"
      ]
     },
     "metadata": {},
     "output_type": "display_data"
    },
    {
     "data": {
      "application/vnd.jupyter.widget-view+json": {
       "model_id": "edf59dbc373a453d8057e64de9ec1450",
       "version_major": 2,
       "version_minor": 0
      },
      "text/plain": [
       "Dropdown(description='Base Map:', options=('SATELLITE', 'OSM'), value='SATELLITE')"
      ]
     },
     "metadata": {},
     "output_type": "display_data"
    },
    {
     "data": {
      "application/vnd.jupyter.widget-view+json": {
       "model_id": "e8025aeece7f45af9cda7431a1eadc2f",
       "version_major": 2,
       "version_minor": 0
      },
      "text/plain": [
       "Button(button_style='success', description='Run Analysis', style=ButtonStyle())"
      ]
     },
     "metadata": {},
     "output_type": "display_data"
    },
    {
     "data": {
      "application/vnd.jupyter.widget-view+json": {
       "model_id": "4ceffb8adf3446588b70d9ce7646e504",
       "version_major": 2,
       "version_minor": 0
      },
      "text/plain": [
       "Map(center=[0, 0], controls=(WidgetControl(options=['position', 'transparent_bg'], widget=SearchDataGUI(childr…"
      ]
     },
     "execution_count": 1,
     "metadata": {},
     "output_type": "execute_result"
    },
    {
     "name": "stderr",
     "output_type": "stream",
     "text": [
      "No such comm: 15f9b35deb6d4c49abad6150dd108e18\n",
      "No such comm: 07f76f3acdb94dfca314680554533e99\n",
      "No such comm: 05e73d7d48f0467bb17a80b8d7d57f5b\n",
      "No such comm: 26c17d41b0554aeb84cb5bdc7b9e8e28\n",
      "No such comm: 26c17d41b0554aeb84cb5bdc7b9e8e28\n",
      "No such comm: 07f76f3acdb94dfca314680554533e99\n",
      "No such comm: 15f9b35deb6d4c49abad6150dd108e18\n",
      "No such comm: 07f76f3acdb94dfca314680554533e99\n",
      "No such comm: 26c17d41b0554aeb84cb5bdc7b9e8e28\n",
      "No such comm: efa42fcc76ba4d38838381fe0ba5d7fe\n",
      "No such comm: efa42fcc76ba4d38838381fe0ba5d7fe\n",
      "No such comm: 07f76f3acdb94dfca314680554533e99\n",
      "No such comm: 26c17d41b0554aeb84cb5bdc7b9e8e28\n",
      "No such comm: 07f76f3acdb94dfca314680554533e99\n",
      "No such comm: 26c17d41b0554aeb84cb5bdc7b9e8e28\n",
      "No such comm: 05e73d7d48f0467bb17a80b8d7d57f5b\n",
      "No such comm: 05e73d7d48f0467bb17a80b8d7d57f5b\n",
      "No such comm: 26c17d41b0554aeb84cb5bdc7b9e8e28\n",
      "No such comm: 26c17d41b0554aeb84cb5bdc7b9e8e28\n"
     ]
    }
   ],
   "source": [
    "import ee\n",
    "import geemap\n",
    "import datetime\n",
    "import ipywidgets as widgets\n",
    "from IPython.display import display\n",
    "import re  # Import regex module\n",
    "\n",
    "# Initialize Earth Engine API\n",
    "ee.Initialize()\n",
    "\n",
    "# Create map\n",
    "Map = geemap.Map()\n",
    "\n",
    "# Load GAUL dataset and filter for Guyana\n",
    "gaul_level1 = ee.FeatureCollection('FAO/GAUL/2015/level1')\n",
    "guyana = gaul_level1.filter(ee.Filter.eq('ADM0_NAME', 'Guyana'))\n",
    "\n",
    "# Get list of available cities in Guyana\n",
    "raw_city_list = guyana.aggregate_array('ADM1_NAME').getInfo()\n",
    "\n",
    "# Clean region names by removing \"(region N°X)\"\n",
    "city_list = [re.sub(r\"\\s*\\(region N°\\d+\\)\", \"\", name) for name in raw_city_list]\n",
    "\n",
    "# Define dynamic time period\n",
    "start_date = datetime.date(1984, 3, 16)\n",
    "end_date = datetime.date(2024, 12, 31)\n",
    "\n",
    "# Convert to ee.Date objects\n",
    "start_date_ee = ee.Date.fromYMD(start_date.year, start_date.month, start_date.day)\n",
    "end_date_ee = ee.Date.fromYMD(end_date.year, end_date.month, end_date.day)\n",
    "\n",
    "# Load datasets\n",
    "jrc = ee.ImageCollection(\"JRC/GSW1_4/MonthlyHistory\")\n",
    "srtm = ee.Image(\"USGS/SRTMGL1_003\")\n",
    "worldcover = ee.ImageCollection(\"ESA/WorldCover/v200\").first().select(\"Map\")  # Fixed selection issue\n",
    "buildings = ee.FeatureCollection(\"GOOGLE/Research/open-buildings/v3/polygons\")  # Open Buildings dataset\n",
    "\n",
    "# Interactive widgets\n",
    "city_selector = widgets.Dropdown(\n",
    "    options=city_list,\n",
    "    value=city_list[0],\n",
    "    description=\"City:\",\n",
    ")\n",
    "start_date_picker = widgets.DatePicker(description=\"Start Date\", value=start_date)\n",
    "end_date_picker = widgets.DatePicker(description=\"End Date\", value=end_date)\n",
    "low_lying_input = widgets.BoundedFloatText(description=\"Low-Lying Level (m)\", value=10, min=0, max=100, step=1)\n",
    "base_map_selector = widgets.Dropdown(\n",
    "    options=[\"SATELLITE\", \"OSM\"],\n",
    "    value=\"SATELLITE\",\n",
    "    description=\"Base Map:\",\n",
    ")\n",
    "run_button = widgets.Button(description=\"Run Analysis\", button_style=\"success\")\n",
    "\n",
    "\n",
    "def update_map(change):\n",
    "    selected_city = city_selector.value\n",
    "\n",
    "    # Match the cleaned city name with the original dataset\n",
    "    raw_city_name = next(name for name in raw_city_list if selected_city in name)\n",
    "    roi = guyana.filter(ee.Filter.eq('ADM1_NAME', raw_city_name)).geometry()\n",
    "\n",
    "    start_date = start_date_picker.value\n",
    "    end_date = end_date_picker.value\n",
    "    low_lying_threshold = low_lying_input.value  # Get updated low-lying level\n",
    "    selected_basemap = base_map_selector.value  # Get selected base map\n",
    "\n",
    "    # Convert to ee.Date objects\n",
    "    start_date_ee = ee.Date.fromYMD(start_date.year, start_date.month, start_date.day)\n",
    "    end_date_ee = ee.Date.fromYMD(end_date.year, end_date.month, end_date.day)\n",
    "\n",
    "    # Filter datasets to ROI\n",
    "    jrc_filtered = jrc.filterBounds(roi).filterDate(start_date_ee, end_date_ee)\n",
    "    permanent_water = ee.Image(\"JRC/GSW1_4/GlobalSurfaceWater\").select(\"occurrence\").gte(90)\n",
    "    jrc_filtered = jrc_filtered.map(lambda img: img.updateMask(permanent_water.Not()))\n",
    "\n",
    "    # Calculate flood frequency\n",
    "    def calculate_flood_frequency(collection):\n",
    "        def add_bands(img):\n",
    "            obs = img.gt(0).rename(\"obs\")\n",
    "            water = img.select(\"water\").eq(2).rename(\"water\")\n",
    "            return img.addBands([obs, water])\n",
    "\n",
    "        collection = collection.map(add_bands)\n",
    "        total_obs = collection.select(\"obs\").sum().rename(\"total_obs\")\n",
    "        total_water = collection.select(\"water\").sum().rename(\"total_water\")\n",
    "        flood_frequency = total_water.divide(total_obs).multiply(100).rename(\"flood_frequency\")\n",
    "        return flood_frequency.updateMask(flood_frequency.neq(0))\n",
    "\n",
    "    flood_frequency = calculate_flood_frequency(jrc_filtered)\n",
    "    slope = ee.Terrain.slope(srtm).rename(\"slope\")\n",
    "    flat_area = slope.lt(5).rename(\"flat_area\")\n",
    "    low_lying = srtm.lt(low_lying_threshold).rename(\"low_lying\")\n",
    "    flood_prone_area = flood_frequency.updateMask(low_lying.And(flat_area))\n",
    "\n",
    "    ### ---------------------- Building Analysis ---------------------- ###\n",
    "    # **Use original building polygons instead of centroids**\n",
    "    building_polygons = buildings.filterBounds(roi)\n",
    "    # Count flooded buildings (filter original polygons)\n",
    "    flooded_buildings = building_polygons.filterBounds(flood_prone_area.geometry())\n",
    "\n",
    "    # Count flooded buildings\n",
    "    building_centroids = buildings.filterBounds(roi).map(lambda f: f.centroid())\n",
    "    flooded_bld = building_centroids.filterBounds(flood_prone_area.geometry())\n",
    "    flooded_building_count = flooded_bld.size().getInfo()\n",
    "\n",
    "    # Landcover visualization\n",
    "    landcover_roi = worldcover.clip(roi)\n",
    "    landcover_vis = {\n",
    "        \"bands\": [\"Map\"],\n",
    "        \"min\": 10,\n",
    "        \"max\": 100,\n",
    "        \"palette\": [\n",
    "            \"#006400\", \"#ffbb22\", \"#ffff4c\", \"#f096ff\", \"#fa0000\",\n",
    "            \"#b4b4b4\", \"#f0f0f0\", \"#0064c8\", \"#0096a0\", \"#00cf75\", \"#fae6a0\"\n",
    "        ]\n",
    "    }\n",
    "\n",
    "    # Remove previous layers safely\n",
    "    layer_names = [\n",
    "        \"Flood Frequency\",\n",
    "        \"Flood-Prone Areas\",\n",
    "        \"SRTM DEM\",\n",
    "        \"Slope\",\n",
    "        \"Land Use (ESA WorldCover)\",\n",
    "        \"Buildings\",\n",
    "        \"Flooded Buildings\"\n",
    "    ]\n",
    "    for layer_name in layer_names:\n",
    "        try:\n",
    "            Map.remove_layer(layer_name)\n",
    "        except Exception:\n",
    "            pass  # Ignore errors if the layer is not found\n",
    "\n",
    "    # Set the selected base map\n",
    "    Map.add_basemap(selected_basemap)\n",
    "    Map.centerObject(roi, 8)\n",
    "\n",
    "    # Visualization parameters\n",
    "    dem_vis = {\"min\": 0, \"max\": 50, \"palette\": [\"ffffff\", \"00ff00\", \"007f00\"]}\n",
    "    slope_vis = {\"min\": 0, \"max\": 30, \"palette\": [\"ffffff\", \"ffcc99\", \"ff3300\"]}\n",
    "    flood_prone_area_vis = {\"min\": 0, \"max\": 50, \"palette\": [\"ffffff\", \"ff9999\", \"ff0000\"]}\n",
    "    flood_frequency_vis = {\"min\": 0, \"max\": 50, \"palette\": [\"ffffff\", \"fffcb8\", \"0905ff\"]}\n",
    "    building_vis = {\"color\": \"blue\", \"fillColor\": \"blue\", \"width\": 1}\n",
    "    flooded_building_vis = {\"color\": \"red\", \"fillColor\": \"red\", \"width\": 1}\n",
    "    # count_label_vis = {\"color\": \"black\", \"pointSize\": 8}\n",
    "\n",
    "    \n",
    "    # Add layers\n",
    "    Map.addLayer(srtm.clip(roi), dem_vis, \"SRTM DEM\")\n",
    "    Map.addLayer(slope.clip(roi), slope_vis, \"Slope\")\n",
    "    Map.addLayer(flood_frequency.clip(roi), flood_frequency_vis, \"Flood Frequency\")\n",
    "    Map.addLayer(flood_prone_area.clip(roi), flood_prone_area_vis, \"Flood-Prone Areas\")\n",
    "    Map.addLayer(landcover_roi, landcover_vis, \"Land Use (ESA WorldCover)\")\n",
    "    Map.addLayer(building_polygons, building_vis, \"Buildings\")\n",
    "    Map.addLayer(flooded_buildings, flooded_building_vis, \"Flooded Buildings\")\n",
    "    \n",
    "    # Add flooded building count as text overlay (legend)\n",
    "    Map.add_text(\n",
    "        text=f\"Flooded Buildings: {flooded_building_count}\",\n",
    "        position=\"topright\",\n",
    "        font_size=14,\n",
    "        text_color=\"white\",\n",
    "        background_color=\"black\",\n",
    "        name=\"Flooded Buildings Count\"\n",
    "    )\n",
    "\n",
    "    add_legend()\n",
    "\n",
    "\n",
    "def add_legend():\n",
    "    legend_dict = {\n",
    "        \"Trees\": \"#006400\",\n",
    "        \"Shrubland\": \"#ffbb22\",\n",
    "        \"Grassland\": \"#ffff4c\",\n",
    "        \"Cropland\": \"#f096ff\",\n",
    "        \"Built-up\": \"#fa0000\",\n",
    "        \"Bare / Sparse Veg\": \"#b4b4b4\",\n",
    "        \"Snow & Ice\": \"#f0f0f0\",\n",
    "        \"Permanent Water\": \"#0064c8\",\n",
    "        \"Herbaceous Wetland\": \"#0096a0\",\n",
    "        \"Mangroves\": \"#00cf75\",\n",
    "        \"Moss / Lichen\": \"#fae6a0\",\n",
    "    }\n",
    "    Map.add_legend(title=\"ESA WorldCover 2020\", legend_dict=legend_dict)\n",
    "\n",
    "\n",
    "# Set the button action\n",
    "run_button.on_click(update_map)\n",
    "\n",
    "# Display the widgets\n",
    "display(city_selector, start_date_picker, end_date_picker, low_lying_input, base_map_selector, run_button)\n",
    "\n",
    "# Ensure the base map is added initially\n",
    "Map.addLayerControl()\n",
    "Map\n"
   ]
  },
  {
   "cell_type": "code",
   "execution_count": null,
   "metadata": {},
   "outputs": [],
   "source": [
    "### export geojson to Local machine ------------ NOT WORK size limit issue  -----------------\n",
    "# # Define file paths\n",
    "# aoi_bld_filename = \"/Users/weraphongsuaruang/Python/Cassie_FloodModule/_result/aoi_bld.geojson\"\n",
    "# flooded_bld_filename = \"/Users/weraphongsuaruang/Python/Cassie_FloodModule/_result/flooded_bld.geojson\"\n",
    "\n",
    "# # Convert FeatureCollections to client-side GeoJSON dictionaries\n",
    "# aoi_bld_geojson = buildings_in_aoi.getInfo()  # Convert to Python dict\n",
    "# flooded_bld_geojson = flooded_buildings.getInfo()  # Convert to Python dict\n",
    "\n",
    "# # Save AOI buildings as GeoJSON\n",
    "# with open(aoi_bld_filename, \"w\") as f:\n",
    "#     json.dump(aoi_bld_geojson, f)\n",
    "\n",
    "# print(f\"✅ AOI buildings exported as GeoJSON: {aoi_bld_filename}\")\n",
    "\n",
    "# # Save Flooded buildings as GeoJSON\n",
    "# with open(flooded_bld_filename, \"w\") as f:\n",
    "#     json.dump(flooded_bld_geojson, f)\n",
    "\n",
    "# print(f\"✅ Flooded buildings exported as GeoJSON: {flooded_bld_filename}\")\n",
    "\n",
    "# ##---------------------------------------------------------------------------------------------------##"
   ]
  }
 ],
 "metadata": {
  "kernelspec": {
   "display_name": "base",
   "language": "python",
   "name": "python3"
  },
  "language_info": {
   "codemirror_mode": {
    "name": "ipython",
    "version": 3
   },
   "file_extension": ".py",
   "mimetype": "text/x-python",
   "name": "python",
   "nbconvert_exporter": "python",
   "pygments_lexer": "ipython3",
   "version": "3.12.3"
  }
 },
 "nbformat": 4,
 "nbformat_minor": 2
}
