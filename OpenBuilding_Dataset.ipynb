{
 "cells": [
  {
   "cell_type": "code",
   "execution_count": 2,
   "metadata": {},
   "outputs": [
    {
     "data": {
      "text/html": [
       "\n",
       "            <style>\n",
       "                .geemap-dark {\n",
       "                    --jp-widgets-color: white;\n",
       "                    --jp-widgets-label-color: white;\n",
       "                    --jp-ui-font-color1: white;\n",
       "                    --jp-layout-color2: #454545;\n",
       "                    background-color: #383838;\n",
       "                }\n",
       "\n",
       "                .geemap-dark .jupyter-button {\n",
       "                    --jp-layout-color3: #383838;\n",
       "                }\n",
       "\n",
       "                .geemap-colab {\n",
       "                    background-color: var(--colab-primary-surface-color, white);\n",
       "                }\n",
       "\n",
       "                .geemap-colab .jupyter-button {\n",
       "                    --jp-layout-color3: var(--colab-primary-surface-color, white);\n",
       "                }\n",
       "            </style>\n",
       "            "
      ],
      "text/plain": [
       "<IPython.core.display.HTML object>"
      ]
     },
     "metadata": {},
     "output_type": "display_data"
    },
    {
     "data": {
      "application/vnd.jupyter.widget-view+json": {
       "model_id": "e30edcf3a12c43e5a74efbedf01b5ce5",
       "version_major": 2,
       "version_minor": 0
      },
      "text/plain": [
       "Map(center=[4.792974158655901, -58.97213873238909], controls=(WidgetControl(options=['position', 'transparent_…"
      ]
     },
     "execution_count": 2,
     "metadata": {},
     "output_type": "execute_result"
    }
   ],
   "source": [
    "import ee\n",
    "import geemap\n",
    "\n",
    "# Initialize Earth Engine\n",
    "ee.Initialize()\n",
    "\n",
    "# Create a map\n",
    "Map = geemap.Map()\n",
    "\n",
    "# Define region of interest (Guyana)\n",
    "gaul_level1 = ee.FeatureCollection('FAO/GAUL/2015/level1')\n",
    "guyana = gaul_level1.filter(ee.Filter.eq('ADM0_NAME', 'Guyana'))\n",
    "roi = guyana.geometry()\n",
    "\n",
    "# Load the Open Buildings dataset\n",
    "open_buildings = ee.FeatureCollection(\"GOOGLE/Research/open-buildings/v3/polygons\")\n",
    "\n",
    "\n",
    "\n",
    "# Step 1: Filter buildings by ROI (Guyana)\n",
    "buildings_in_roi = open_buildings.filterBounds(roi)\n",
    "\n",
    "# Step 2: Exclude small buildings (area < 10 m²)\n",
    "# buildings_filtered = buildings_in_roi.filter(ee.Filter.gte(\"area\", 10))\n",
    "\n",
    "# Step 3: Simplify building geometries\n",
    "buildings_simplified = buildings_in_roi.map(lambda f: f.simplify(1))\n",
    "\n",
    "# Visualization parameters\n",
    "building_vis = {\"color\": \"blue\"}\n",
    "\n",
    "# Add the buildings layer to the map\n",
    "Map.addLayer(buildings_simplified, building_vis, \"Filtered Buildings\")\n",
    "Map.centerObject(roi, 8)\n",
    "\n",
    "# Add map controls\n",
    "Map.addLayerControl()\n",
    "Map"
   ]
  },
  {
   "cell_type": "code",
   "execution_count": 3,
   "metadata": {},
   "outputs": [
    {
     "data": {
      "text/html": [
       "\n",
       "            <style>\n",
       "                .geemap-dark {\n",
       "                    --jp-widgets-color: white;\n",
       "                    --jp-widgets-label-color: white;\n",
       "                    --jp-ui-font-color1: white;\n",
       "                    --jp-layout-color2: #454545;\n",
       "                    background-color: #383838;\n",
       "                }\n",
       "\n",
       "                .geemap-dark .jupyter-button {\n",
       "                    --jp-layout-color3: #383838;\n",
       "                }\n",
       "\n",
       "                .geemap-colab {\n",
       "                    background-color: var(--colab-primary-surface-color, white);\n",
       "                }\n",
       "\n",
       "                .geemap-colab .jupyter-button {\n",
       "                    --jp-layout-color3: var(--colab-primary-surface-color, white);\n",
       "                }\n",
       "            </style>\n",
       "            "
      ],
      "text/plain": [
       "<IPython.core.display.HTML object>"
      ]
     },
     "metadata": {},
     "output_type": "display_data"
    },
    {
     "data": {
      "application/vnd.jupyter.widget-view+json": {
       "model_id": "4c04f7c2d11d4006bae95a79dee5b7a5",
       "version_major": 2,
       "version_minor": 0
      },
      "text/plain": [
       "Map(bottom=125800.0, center=[7.629331424712835, -58.92242431640626], controls=(WidgetControl(options=['positio…"
      ]
     },
     "execution_count": 3,
     "metadata": {},
     "output_type": "execute_result"
    }
   ],
   "source": [
    "# Clip buildings to the region of interest\n",
    "buildings_clipped = open_buildings.map(lambda f: f.intersection(roi))\n",
    "\n",
    "# Visualization parameters for clipped buildings\n",
    "clipped_building_vis = {\"color\": \"red\"}\n",
    "\n",
    "# Add the clipped buildings layer to the map\n",
    "Map.addLayer(buildings_clipped, clipped_building_vis, \"Clipped Buildings\")\n",
    "Map"
   ]
  },
  {
   "cell_type": "code",
   "execution_count": 1,
   "metadata": {},
   "outputs": [
    {
     "data": {
      "application/vnd.jupyter.widget-view+json": {
       "model_id": "f07a42e7b9a144f1b65acdcb8682871b",
       "version_major": 2,
       "version_minor": 0
      },
      "text/plain": [
       "Map(center=[4.792974158655902, -58.97213873238909], controls=(WidgetControl(options=['position', 'transparent_…"
      ]
     },
     "execution_count": 1,
     "metadata": {},
     "output_type": "execute_result"
    }
   ],
   "source": [
    "import ee\n",
    "import geemap\n",
    "\n",
    "# Initialize Earth Engine\n",
    "ee.Initialize()\n",
    "\n",
    "# Define a small ROI (e.g., a city in Guyana)\n",
    "gaul_level1 = ee.FeatureCollection('FAO/GAUL/2015/level1')\n",
    "guyana = gaul_level1.filter(ee.Filter.eq('ADM0_NAME', 'Guyana'))\n",
    "roi = guyana.geometry().centroid(50000)  # Smaller buffer for testing\n",
    "\n",
    "# Load the Open Buildings dataset\n",
    "open_buildings = ee.FeatureCollection(\"GOOGLE/Research/open-buildings/v3/polygons\")\n",
    "\n",
    "# Step 1: Filter buildings by ROI\n",
    "buildings_in_roi = open_buildings.filterBounds(roi)\n",
    "\n",
    "# Step 2: Exclude small buildings (area < 10 m²)\n",
    "buildings_filtered = buildings_in_roi.filter(ee.Filter.gte(\"area\", 10))\n",
    "\n",
    "# Step 3: Simplify geometries for efficiency\n",
    "buildings_simplified = buildings_filtered.map(lambda f: f.simplify(5))\n",
    "\n",
    "# Step 4: Limit processing for testing\n",
    "buildings_sample = buildings_simplified.limit(1000)\n",
    "\n",
    "# Visualization parameters\n",
    "building_vis = {\"color\": \"blue\"}\n",
    "\n",
    "# Map and display\n",
    "Map = geemap.Map()\n",
    "Map.addLayer(buildings_sample, building_vis, \"Sampled Buildings\")\n",
    "Map.centerObject(roi, 12)\n",
    "Map.addLayerControl()\n",
    "Map\n"
   ]
  },
  {
   "cell_type": "code",
   "execution_count": null,
   "metadata": {},
   "outputs": [],
   "source": []
  }
 ],
 "metadata": {
  "kernelspec": {
   "display_name": "base",
   "language": "python",
   "name": "python3"
  },
  "language_info": {
   "codemirror_mode": {
    "name": "ipython",
    "version": 3
   },
   "file_extension": ".py",
   "mimetype": "text/x-python",
   "name": "python",
   "nbconvert_exporter": "python",
   "pygments_lexer": "ipython3",
   "version": "3.12.3"
  }
 },
 "nbformat": 4,
 "nbformat_minor": 2
}
