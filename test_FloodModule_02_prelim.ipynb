{
 "cells": [
  {
   "cell_type": "markdown",
   "metadata": {},
   "source": [
    "- Flood Frequency \n",
    "- Flood Pronearea\n",
    "- Slope Flat area from SRTM\n",
    "- Montly water surface layer by Time period "
   ]
  },
  {
   "cell_type": "code",
   "execution_count": 2,
   "metadata": {},
   "outputs": [
    {
     "data": {
      "text/html": [
       "\n",
       "            <style>\n",
       "                .geemap-dark {\n",
       "                    --jp-widgets-color: white;\n",
       "                    --jp-widgets-label-color: white;\n",
       "                    --jp-ui-font-color1: white;\n",
       "                    --jp-layout-color2: #454545;\n",
       "                    background-color: #383838;\n",
       "                }\n",
       "\n",
       "                .geemap-dark .jupyter-button {\n",
       "                    --jp-layout-color3: #383838;\n",
       "                }\n",
       "\n",
       "                .geemap-colab {\n",
       "                    background-color: var(--colab-primary-surface-color, white);\n",
       "                }\n",
       "\n",
       "                .geemap-colab .jupyter-button {\n",
       "                    --jp-layout-color3: var(--colab-primary-surface-color, white);\n",
       "                }\n",
       "            </style>\n",
       "            "
      ],
      "text/plain": [
       "<IPython.core.display.HTML object>"
      ]
     },
     "metadata": {},
     "output_type": "display_data"
    },
    {
     "data": {
      "application/vnd.jupyter.widget-view+json": {
       "model_id": "5dfc4f7f36dd4f469d6839e7b0febc89",
       "version_major": 2,
       "version_minor": 0
      },
      "text/plain": [
       "DatePicker(value=datetime.date(1984, 3, 16), description='Start Date', step=1)"
      ]
     },
     "metadata": {},
     "output_type": "display_data"
    },
    {
     "data": {
      "application/vnd.jupyter.widget-view+json": {
       "model_id": "6044e27f9c4e4d5e99532d42d669e149",
       "version_major": 2,
       "version_minor": 0
      },
      "text/plain": [
       "DatePicker(value=datetime.date(2024, 12, 31), description='End Date', step=1)"
      ]
     },
     "metadata": {},
     "output_type": "display_data"
    },
    {
     "data": {
      "application/vnd.jupyter.widget-view+json": {
       "model_id": "09787e7077e34ba0a9f4e77301937d36",
       "version_major": 2,
       "version_minor": 0
      },
      "text/plain": [
       "Button(button_style='success', description='Run Analysis', style=ButtonStyle())"
      ]
     },
     "metadata": {},
     "output_type": "display_data"
    },
    {
     "data": {
      "application/vnd.jupyter.widget-view+json": {
       "model_id": "8abfb91ed5294e67a83b00eb404d332d",
       "version_major": 2,
       "version_minor": 0
      },
      "text/plain": [
       "Map(center=[0, 0], controls=(WidgetControl(options=['position', 'transparent_bg'], widget=SearchDataGUI(childr…"
      ]
     },
     "execution_count": 2,
     "metadata": {},
     "output_type": "execute_result"
    }
   ],
   "source": [
    "import ee\n",
    "import geemap\n",
    "import datetime\n",
    "import ipywidgets as widgets\n",
    "from IPython.display import display\n",
    "\n",
    "# Initialize Earth Engine API\n",
    "ee.Initialize()\n",
    "\n",
    "# Create map\n",
    "Map = geemap.Map()\n",
    "\n",
    "# Define region of interest (ROI) for Guyana\n",
    "gaul_level1 = ee.FeatureCollection('FAO/GAUL/2015/level1')\n",
    "guyana = gaul_level1.filter(ee.Filter.eq('ADM0_NAME', 'Timor-Leste'))\n",
    "georgetown = guyana.filter(ee.Filter.eq('ADM1_NAME', 'Georgetown'))\n",
    "roi = guyana.geometry()\n",
    "\n",
    "# Define dynamic time period\n",
    "start_date = datetime.date(1984, 3, 16)\n",
    "end_date = datetime.date(2024, 12, 31)\n",
    "\n",
    "# Convert to ee.Date objects\n",
    "start_date_ee = ee.Date.fromYMD(start_date.year, start_date.month, start_date.day)\n",
    "end_date_ee = ee.Date.fromYMD(end_date.year, end_date.month, end_date.day)\n",
    "\n",
    "# Load datasets\n",
    "jrc = ee.ImageCollection(\"JRC/GSW1_4/MonthlyHistory\")\n",
    "srtm = ee.Image(\"USGS/SRTMGL1_003\")\n",
    "\n",
    "# Filter JRC dataset for the selected time period and region\n",
    "jrc_filtered = jrc.filterBounds(roi).filterDate(start_date_ee, end_date_ee)\n",
    "\n",
    "# Step 1: Exclude permanent water bodies\n",
    "permanent_water = ee.Image(\"JRC/GSW1_4/GlobalSurfaceWater\").select(\"occurrence\").gte(90)\n",
    "jrc_filtered = jrc_filtered.map(lambda img: img.updateMask(permanent_water.Not()))\n",
    "\n",
    "# Step 2: Calculate Flood Frequency\n",
    "def calculate_flood_frequency(collection):\n",
    "    # Detect observations and water occurrences\n",
    "    def add_bands(img):\n",
    "        obs = img.gt(0).rename(\"obs\")\n",
    "        water = img.select(\"water\").eq(2).rename(\"water\")\n",
    "        return img.addBands([obs, water])\n",
    "    \n",
    "    collection = collection.map(add_bands)\n",
    "    total_obs = collection.select(\"obs\").sum().rename(\"total_obs\")\n",
    "    total_water = collection.select(\"water\").sum().rename(\"total_water\")\n",
    "    flood_frequency = total_water.divide(total_obs).multiply(100).rename(\"flood_frequency\")\n",
    "    return flood_frequency.updateMask(flood_frequency.neq(0))\n",
    "\n",
    "flood_frequency = calculate_flood_frequency(jrc_filtered)\n",
    "\n",
    "# Step 3: Analyze DEM\n",
    "# Calculate slope and flat areas\n",
    "slope = ee.Terrain.slope(srtm).rename(\"slope\")\n",
    "flat_area = slope.lt(5).rename(\"flat_area\")  \n",
    "low_lying = srtm.lt(10).rename(\"low_lying\")  \n",
    "\n",
    "# Step 4: Flood-Prone Areas\n",
    "flood_prone_area = flood_frequency.updateMask(low_lying.And(flat_area))\n",
    "\n",
    "# Step 5: Monthly Water Surface Maps\n",
    "def get_monthly_flood_layers(collection, roi, permanent_water):\n",
    "    \"\"\"\n",
    "    Extracts monthly flood layers from the given collection,\n",
    "    excluding permanent water bodies.\n",
    "    \"\"\"\n",
    "    monthly_layers = {}\n",
    "    months = collection.aggregate_array(\"system:index\").getInfo()\n",
    "    \n",
    "    for month in months:\n",
    "        img = collection.filter(ee.Filter.eq(\"system:index\", month)).first()\n",
    "        water_layer = img.select(\"water\").eq(2).updateMask(permanent_water.Not())\n",
    "        monthly_layers[month] = water_layer.clip(roi)\n",
    "    \n",
    "    return monthly_layers\n",
    "\n",
    "# Call the function with the permanent water exclusion\n",
    "monthly_layers = get_monthly_flood_layers(jrc_filtered, roi, permanent_water)\n",
    "\n",
    "# Visualization parameters\n",
    "dem_vis = {\"min\": 0, \"max\": 50, \"palette\": [\"ffffff\", \"00ff00\", \"007f00\"]}\n",
    "slope_vis = {\"min\": 0, \"max\": 30, \"palette\": [\"ffffff\", \"ffcc99\", \"ff3300\"]}\n",
    "flat_area_vis = {\"min\": 0, \"max\": 1, \"palette\": [\"ffffff\", \"0000ff\"]}\n",
    "flood_frequency_vis = {\"min\": 0, \"max\": 50, \"palette\": [\"ffffff\", \"fffcb8\", \"0905ff\"]}\n",
    "flood_prone_area_vis = {\"min\": 0, \"max\": 50, \"palette\": [\"ffffff\", \"ff9999\", \"ff0000\"]}\n",
    "water_surface_vis = {\"min\": 0, \"max\": 1, \"palette\": [\"0000ff\"]}\n",
    "\n",
    "# Interactive widgets\n",
    "start_date_picker = widgets.DatePicker(description=\"Start Date\", value=start_date)\n",
    "end_date_picker = widgets.DatePicker(description=\"End Date\", value=end_date)\n",
    "run_button = widgets.Button(description=\"Run Analysis\", button_style=\"success\")\n",
    "\n",
    "# # Function to update map after running analysis\n",
    "# def update_map(change):\n",
    "#     start_date = start_date_picker.value\n",
    "#     end_date = end_date_picker.value\n",
    "\n",
    "#     # Convert to ee.Date objects\n",
    "#     start_date_ee = ee.Date.fromYMD(start_date.year, start_date.month, start_date.day)\n",
    "#     end_date_ee = ee.Date.fromYMD(end_date.year, end_date.month, end_date.day)\n",
    "\n",
    "#     # Re-filter the JRC dataset with the new date range\n",
    "#     jrc_filtered = jrc.filterBounds(roi).filterDate(start_date_ee, end_date_ee)\n",
    "#     # Exclude permanent water bodies\n",
    "#     jrc_filtered = jrc_filtered.map(lambda img: img.updateMask(permanent_water.Not()))\n",
    "#     # Calculate flood frequency\n",
    "#     flood_frequency = calculate_flood_frequency(jrc_filtered)\n",
    "#     # Calculate flood-prone areas\n",
    "#     flood_prone_area = flood_frequency.updateMask(low_lying.And(flat_area))\n",
    "    \n",
    "\n",
    "#     # Update layers\n",
    "#     Map.layers = []  # Clear current layers\n",
    "#     Map.centerObject(roi, 8)\n",
    "#     Map.addLayer(srtm.clip(roi), dem_vis, \"SRTM DEM\")\n",
    "#     Map.addLayer(slope.clip(roi), slope_vis, \"Slope\")\n",
    "#     Map.addLayer(flood_frequency.clip(roi), flood_frequency_vis, f\"Flood Frequency from {start_date} to {end_date}\")\n",
    "#     Map.addLayer(flood_prone_area.clip(roi), flood_prone_area_vis, f\"Flood-Prone Areas from {start_date} to {end_date}\")\n",
    "\n",
    "def update_map(change):\n",
    "    start_date = start_date_picker.value\n",
    "    end_date = end_date_picker.value\n",
    "\n",
    "    # Convert to ee.Date objects\n",
    "    start_date_ee = ee.Date.fromYMD(start_date.year, start_date.month, start_date.day)\n",
    "    end_date_ee = ee.Date.fromYMD(end_date.year, end_date.month, end_date.day)\n",
    "\n",
    "    # Re-filter the JRC dataset with the new date range\n",
    "    jrc_filtered = jrc.filterBounds(roi).filterDate(start_date_ee, end_date_ee)\n",
    "    # Exclude permanent water bodies\n",
    "    jrc_filtered = jrc_filtered.map(lambda img: img.updateMask(permanent_water.Not()))\n",
    "    # Calculate flood frequency\n",
    "    flood_frequency = calculate_flood_frequency(jrc_filtered)\n",
    "    # Calculate flood-prone areas\n",
    "    flood_prone_area = flood_frequency.updateMask(low_lying.And(flat_area))\n",
    "    \n",
    "    # Add new layers without removing existing ones\n",
    "    Map.centerObject(roi, 8)\n",
    "    Map.addLayer(srtm.clip(roi), dem_vis, \"SRTM DEM\")\n",
    "    Map.addLayer(slope.clip(roi), slope_vis, \"Slope\")\n",
    "    Map.addLayer(flood_frequency.clip(roi), flood_frequency_vis, f\"Flood Frequency from {start_date} to {end_date}\")\n",
    "    Map.addLayer(flood_prone_area.clip(roi), flood_prone_area_vis, f\"Flood-Prone Areas from {start_date} to {end_date}\")\n",
    "   \n",
    "    # for month, layer in monthly_layers.items():\n",
    "    #     Map.addLayer(layer, water_surface_vis, f\"Water Surface {month}\")\n",
    "\n",
    "# Set the button action\n",
    "run_button.on_click(update_map)\n",
    "\n",
    "# Display the widgets\n",
    "display(start_date_picker, end_date_picker, run_button)\n",
    "\n",
    "# Show the map\n",
    "Map.addLayerControl()\n",
    "Map\n"
   ]
  },
  {
   "cell_type": "code",
   "execution_count": null,
   "metadata": {},
   "outputs": [],
   "source": []
  }
 ],
 "metadata": {
  "kernelspec": {
   "display_name": "myenv",
   "language": "python",
   "name": "python3"
  },
  "language_info": {
   "codemirror_mode": {
    "name": "ipython",
    "version": 3
   },
   "file_extension": ".py",
   "mimetype": "text/x-python",
   "name": "python",
   "nbconvert_exporter": "python",
   "pygments_lexer": "ipython3",
   "version": "3.12.3"
  }
 },
 "nbformat": 4,
 "nbformat_minor": 2
}
