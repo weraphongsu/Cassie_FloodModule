{
 "cells": [
  {
   "cell_type": "code",
   "execution_count": 1,
   "metadata": {},
   "outputs": [],
   "source": [
    "import ee\n",
    "import geemap\n",
    "ee.Initialize()"
   ]
  },
  {
   "cell_type": "code",
   "execution_count": null,
   "metadata": {},
   "outputs": [],
   "source": [
    "# # gaul = ee.FeatureCollection('FAO/GAUL/2015/level1')\n",
    "# gaul = ee.FeatureCollection(\"FAO/GAUL/2015/level0\")\n",
    "# print(gaul)\n",
    "# # guyana = gaul.filter(ee.Filter.eq(\"ADM1_NAME\", \"Guyana\"))\n",
    "\n",
    "gaul_level1 = ee.FeatureCollection('FAO/GAUL/2015/level1')\n",
    "first_feature = gaul_level1.first()\n",
    "attributes = first_feature.toDictionary().getInfo()\n",
    "attributes"
   ]
  },
  {
   "cell_type": "code",
   "execution_count": 44,
   "metadata": {},
   "outputs": [
    {
     "data": {
      "text/html": [
       "\n",
       "            <style>\n",
       "                .geemap-dark {\n",
       "                    --jp-widgets-color: white;\n",
       "                    --jp-widgets-label-color: white;\n",
       "                    --jp-ui-font-color1: white;\n",
       "                    --jp-layout-color2: #454545;\n",
       "                    background-color: #383838;\n",
       "                }\n",
       "\n",
       "                .geemap-dark .jupyter-button {\n",
       "                    --jp-layout-color3: #383838;\n",
       "                }\n",
       "\n",
       "                .geemap-colab {\n",
       "                    background-color: var(--colab-primary-surface-color, white);\n",
       "                }\n",
       "\n",
       "                .geemap-colab .jupyter-button {\n",
       "                    --jp-layout-color3: var(--colab-primary-surface-color, white);\n",
       "                }\n",
       "            </style>\n",
       "            "
      ],
      "text/plain": [
       "<IPython.core.display.HTML object>"
      ]
     },
     "metadata": {},
     "output_type": "display_data"
    },
    {
     "name": "stdout",
     "output_type": "stream",
     "text": [
      "Adding layers to the map...\n"
     ]
    },
    {
     "data": {
      "application/vnd.jupyter.widget-view+json": {
       "model_id": "5e25b2cfce01468198abd4195bcf30ba",
       "version_major": 2,
       "version_minor": 0
      },
      "text/plain": [
       "Map(center=[4.792974158655901, -58.97213873238909], controls=(WidgetControl(options=['position', 'transparent_…"
      ]
     },
     "execution_count": 44,
     "metadata": {},
     "output_type": "execute_result"
    }
   ],
   "source": [
    "import ee\n",
    "\n",
    "# Initialize the Earth Engine API\n",
    "ee.Initialize()\n",
    "\n",
    "gaul_level1 = ee.FeatureCollection('FAO/GAUL/2015/level1')\n",
    "guyana = gaul_level1.filter(ee.Filter.eq('ADM0_NAME', 'Guyana'))\n",
    "georgetown = guyana.filter(ee.Filter.eq('ADM1_NAME', 'Georgetown'))\n",
    "\n",
    "roi = guyana.geometry()\n",
    "\n",
    "\n",
    "# Define dynamic time period\n",
    "start_date = \"2005-01-01\"\n",
    "end_date = \"2005-12-31\"\n",
    "\n",
    "# Load datasets\n",
    "jrc = ee.ImageCollection(\"JRC/GSW1_4/MonthlyHistory\")\n",
    "srtm = ee.Image(\"USGS/SRTMGL1_003\")\n",
    "\n",
    "# Filter JRC dataset for the selected time period and region\n",
    "jrc_filtered = jrc.filterBounds(roi).filterDate(start_date, end_date)\n",
    "\n",
    "# Step 1: Exclude permanent water bodies\n",
    "permanent_water = ee.Image(\"JRC/GSW1_4/GlobalSurfaceWater\").select(\"occurrence\").gte(90)\n",
    "jrc_filtered = jrc_filtered.map(lambda img: img.updateMask(permanent_water.Not()))\n",
    "\n",
    "# Step 2: Calculate Flood Frequency\n",
    "def calculate_flood_frequency(collection):\n",
    "    # Detect observations and water occurrences\n",
    "    def add_bands(img):\n",
    "        obs = img.gt(0).rename(\"obs\")\n",
    "        water = img.select(\"water\").eq(2).rename(\"water\")\n",
    "        return img.addBands([obs, water])\n",
    "    \n",
    "    collection = collection.map(add_bands)\n",
    "    total_obs = collection.select(\"obs\").sum().rename(\"total_obs\")\n",
    "    total_water = collection.select(\"water\").sum().rename(\"total_water\")\n",
    "    flood_frequency = total_water.divide(total_obs).multiply(100).rename(\"flood_frequency\")\n",
    "    return flood_frequency.updateMask(flood_frequency.neq(0))\n",
    "\n",
    "flood_frequency = calculate_flood_frequency(jrc_filtered)\n",
    "\n",
    "# Step 3: Analyze DEM\n",
    "# Calculate slope and flat areas\n",
    "slope = ee.Terrain.slope(srtm).rename(\"slope\")\n",
    "flat_area = slope.lt(5).rename(\"flat_area\")  \n",
    "low_lying = srtm.lt(10).rename(\"low_lying\")  \n",
    "# Step 4: Flood-Prone Areas\n",
    "flood_prone_area = flood_frequency.updateMask(low_lying.And(flat_area))\n",
    "\n",
    "# Step 5: Monthly Water Surface Maps\n",
    "# monthly_water_surface = jrc_filtered.map(calculate_monthly_water_surface)\n",
    "def get_monthly_flood_layers(collection, roi):\n",
    "    \"\"\"\n",
    "    Extracts monthly flood layers from the given collection.\n",
    "    \"\"\"\n",
    "    monthly_layers = {}\n",
    "    months = collection.aggregate_array(\"system:index\").getInfo()\n",
    "    for month in months:\n",
    "        img = collection.filter(ee.Filter.eq(\"system:index\", month)).first()\n",
    "        monthly_layers[month] = img.clip(roi).select(\"water\")\n",
    "    return monthly_layers\n",
    "\n",
    "monthly_layers = get_monthly_flood_layers(jrc_filtered, roi)\n",
    "\n",
    "# Visualization parameters\n",
    "dem_vis = {\"min\": 0, \"max\": 50, \"palette\": [\"ffffff\", \"00ff00\", \"007f00\"]}\n",
    "slope_vis = {\"min\": 0, \"max\": 30, \"palette\": [\"ffffff\", \"ffcc99\", \"ff3300\"]}\n",
    "flat_area_vis = {\"min\": 0, \"max\": 1, \"palette\": [\"ffffff\", \"0000ff\"]}\n",
    "flood_frequency_vis = {\"min\": 0, \"max\": 50, \"palette\": [\"ffffff\", \"fffcb8\", \"0905ff\"]}\n",
    "flood_prone_area_vis = {\"min\": 0, \"max\": 50, \"palette\": [\"ffffff\", \"ff9999\", \"ff0000\"]}\n",
    "water_surface_vis = {\"min\": 0, \"max\": 1, \"palette\": [\"0000ff\"]}\n",
    "\n",
    "# Add layers to the map\n",
    "print(\"Adding layers to the map...\")\n",
    "Map = geemap.Map()\n",
    "Map.centerObject(roi, 8)\n",
    "Map.addLayer(srtm.clip(roi), dem_vis, \"SRTM DEM\")\n",
    "Map.addLayer(slope.clip(roi), slope_vis, \"Slope\")\n",
    "Map.addLayer(flat_area.clip(roi), flat_area_vis, \"Flat Areas\")\n",
    "Map.addLayer(flood_frequency.clip(roi), flood_frequency_vis, f\"Flood Frequency from {start_date} to {end_date}\")\n",
    "Map.addLayer(flood_prone_area.clip(roi), flood_prone_area_vis, f\"Flood-Prone Areas from {start_date} to {end_date}\")\n",
    "\n",
    "for month, layer in monthly_layers.items():\n",
    "    Map.addLayer(layer, water_surface_vis, f\"Water Surface {month}\")\n",
    "\n",
    "Map.addLayerControl()\n",
    "Map\n",
    "\n",
    "\n"
   ]
  },
  {
   "cell_type": "code",
   "execution_count": 47,
   "metadata": {},
   "outputs": [
    {
     "data": {
      "text/html": [
       "\n",
       "            <style>\n",
       "                .geemap-dark {\n",
       "                    --jp-widgets-color: white;\n",
       "                    --jp-widgets-label-color: white;\n",
       "                    --jp-ui-font-color1: white;\n",
       "                    --jp-layout-color2: #454545;\n",
       "                    background-color: #383838;\n",
       "                }\n",
       "\n",
       "                .geemap-dark .jupyter-button {\n",
       "                    --jp-layout-color3: #383838;\n",
       "                }\n",
       "\n",
       "                .geemap-colab {\n",
       "                    background-color: var(--colab-primary-surface-color, white);\n",
       "                }\n",
       "\n",
       "                .geemap-colab .jupyter-button {\n",
       "                    --jp-layout-color3: var(--colab-primary-surface-color, white);\n",
       "                }\n",
       "            </style>\n",
       "            "
      ],
      "text/plain": [
       "<IPython.core.display.HTML object>"
      ]
     },
     "metadata": {},
     "output_type": "display_data"
    }
   ],
   "source": [
    "Map.save(\"flood_analysis_map.html\")"
   ]
  },
  {
   "cell_type": "code",
   "execution_count": 39,
   "metadata": {},
   "outputs": [
    {
     "data": {
      "text/html": [
       "\n",
       "            <style>\n",
       "                .geemap-dark {\n",
       "                    --jp-widgets-color: white;\n",
       "                    --jp-widgets-label-color: white;\n",
       "                    --jp-ui-font-color1: white;\n",
       "                    --jp-layout-color2: #454545;\n",
       "                    background-color: #383838;\n",
       "                }\n",
       "\n",
       "                .geemap-dark .jupyter-button {\n",
       "                    --jp-layout-color3: #383838;\n",
       "                }\n",
       "\n",
       "                .geemap-colab {\n",
       "                    background-color: var(--colab-primary-surface-color, white);\n",
       "                }\n",
       "\n",
       "                .geemap-colab .jupyter-button {\n",
       "                    --jp-layout-color3: var(--colab-primary-surface-color, white);\n",
       "                }\n",
       "            </style>\n",
       "            "
      ],
      "text/plain": [
       "<IPython.core.display.HTML object>"
      ]
     },
     "metadata": {},
     "output_type": "display_data"
    }
   ],
   "source": [
    "# def get_monthly_flood_layers(collection, roi):\n",
    "#     \"\"\"\n",
    "#     Extracts monthly flood layers from the given collection.\n",
    "    \n",
    "#     Args:\n",
    "#         collection: The filtered JRC water collection.\n",
    "#         roi: The region of interest as an ee.Geometry or ee.FeatureCollection.\n",
    "        \n",
    "#     Returns:\n",
    "#         A dictionary where keys are month indices and values are ee.Image objects.\n",
    "#     \"\"\"\n",
    "#     monthly_layers = {}\n",
    "    \n",
    "#     # Get all monthly indexes\n",
    "#     months = collection.aggregate_array(\"system:index\").getInfo()\n",
    "#     for month in months:\n",
    "#         img = collection.filter(ee.Filter.eq(\"system:index\", month)).first()\n",
    "#         monthly_layers[month] = img.clip(roi).select(\"water\")\n",
    "    \n",
    "#     return monthly_layers"
   ]
  },
  {
   "cell_type": "code",
   "execution_count": 40,
   "metadata": {},
   "outputs": [
    {
     "data": {
      "text/html": [
       "\n",
       "            <style>\n",
       "                .geemap-dark {\n",
       "                    --jp-widgets-color: white;\n",
       "                    --jp-widgets-label-color: white;\n",
       "                    --jp-ui-font-color1: white;\n",
       "                    --jp-layout-color2: #454545;\n",
       "                    background-color: #383838;\n",
       "                }\n",
       "\n",
       "                .geemap-dark .jupyter-button {\n",
       "                    --jp-layout-color3: #383838;\n",
       "                }\n",
       "\n",
       "                .geemap-colab {\n",
       "                    background-color: var(--colab-primary-surface-color, white);\n",
       "                }\n",
       "\n",
       "                .geemap-colab .jupyter-button {\n",
       "                    --jp-layout-color3: var(--colab-primary-surface-color, white);\n",
       "                }\n",
       "            </style>\n",
       "            "
      ],
      "text/plain": [
       "<IPython.core.display.HTML object>"
      ]
     },
     "metadata": {},
     "output_type": "display_data"
    }
   ],
   "source": [
    "# # Get the monthly water surface layers\n",
    "# monthly_layers = get_monthly_flood_layers(jrc_filtered, roi)\n",
    "\n",
    "# # Example: Visualize a specific month's layer on a geemap.Map\n",
    "# example_month = \"2005-01\"  # Change this to the desired month\n",
    "# example_layer = monthly_layers.get(example_month)\n",
    "\n",
    "# if example_layer:\n",
    "#     Map = geemap.Map()\n",
    "#     Map.centerObject(roi, 8)\n",
    "    \n",
    "#     # Define visualization parameters\n",
    "#     flood_vis = {\"min\": 0, \"max\": 1, \"palette\": [\"ffffff\", \"0000ff\"]}\n",
    "    \n",
    "#     # Add the example layer\n",
    "#     Map.addLayer(example_layer, flood_vis, f\"Flood {example_month}\")\n",
    "#     Map.addLayerControl()\n",
    "#     Map\n",
    "# else:\n",
    "#     print(f\"No data available for month {example_month}\")\n"
   ]
  },
  {
   "cell_type": "code",
   "execution_count": 45,
   "metadata": {},
   "outputs": [
    {
     "data": {
      "text/html": [
       "\n",
       "            <style>\n",
       "                .geemap-dark {\n",
       "                    --jp-widgets-color: white;\n",
       "                    --jp-widgets-label-color: white;\n",
       "                    --jp-ui-font-color1: white;\n",
       "                    --jp-layout-color2: #454545;\n",
       "                    background-color: #383838;\n",
       "                }\n",
       "\n",
       "                .geemap-dark .jupyter-button {\n",
       "                    --jp-layout-color3: #383838;\n",
       "                }\n",
       "\n",
       "                .geemap-colab {\n",
       "                    background-color: var(--colab-primary-surface-color, white);\n",
       "                }\n",
       "\n",
       "                .geemap-colab .jupyter-button {\n",
       "                    --jp-layout-color3: var(--colab-primary-surface-color, white);\n",
       "                }\n",
       "            </style>\n",
       "            "
      ],
      "text/plain": [
       "<IPython.core.display.HTML object>"
      ]
     },
     "metadata": {},
     "output_type": "display_data"
    },
    {
     "data": {
      "application/vnd.jupyter.widget-view+json": {
       "model_id": "a310f2359a6d4888932f93c51764a60e",
       "version_major": 2,
       "version_minor": 0
      },
      "text/plain": [
       "Map(center=[4.792974158655901, -58.97213873238909], controls=(WidgetControl(options=['position', 'transparent_…"
      ]
     },
     "execution_count": 45,
     "metadata": {},
     "output_type": "execute_result"
    }
   ],
   "source": [
    "def display_monthly_flood_maps(collection, roi):\n",
    "    monthly_map = geemap.Map()\n",
    "    monthly_map.centerObject(roi, 8)\n",
    "    \n",
    "    # flood_vis = {\"min\": 0, \"max\": 3, \"palette\": [\"ffffff\", \"ffcccc\", \"ff0000\"]}\n",
    "    # flood_vis = {\"min\": 0, \"max\": 3, \"palette\": [\"ffffff\", \"0000ff\"]}\n",
    "    # flood_vis = {\"min\": 0, \"max\": 1, \"palette\": [\"ffffff\", \"0000ff\"]}\n",
    "    flood_vis = {\"min\": 0, \"max\": 1, \"palette\": [\"0000ff\"]}\n",
    "\n",
    "    # Extract and add each monthly image to the map\n",
    "    months = collection.aggregate_array(\"system:index\").getInfo()  # Get all monthly indexes\n",
    "    for month in months:\n",
    "        img = collection.filter(ee.Filter.eq(\"system:index\", month)).first()\n",
    "        monthly_map.addLayer(img.clip(roi).select(\"water\"), flood_vis, f\"Flood {month}\")\n",
    "    \n",
    "    # Add layer control and return the map\n",
    "    monthly_map.addLayerControl()\n",
    "    return monthly_map\n",
    "\n",
    "monthly_flood_map = display_monthly_flood_maps(jrc_filtered, roi)\n",
    "monthly_flood_map"
   ]
  },
  {
   "cell_type": "code",
   "execution_count": null,
   "metadata": {},
   "outputs": [],
   "source": []
  },
  {
   "cell_type": "code",
   "execution_count": null,
   "metadata": {},
   "outputs": [],
   "source": [
    "# # Optional: Export the flood frequency and flood risk results to Google Drive\n",
    "# task_flood_frequency = ee.batch.Export.image.toDrive(\n",
    "#     image=flood_frequency,\n",
    "#     description=\"FloodFrequency\",\n",
    "#     folder=\"EarthEngineExports\",\n",
    "#     scale=30,\n",
    "#     region=roi,\n",
    "#     maxPixels=1e13\n",
    "# )\n",
    "# task_flood_frequency.start()\n",
    "\n",
    "# task_flood_risk = ee.batch.Export.image.toDrive(\n",
    "#     image=flood_risk,\n",
    "#     description=\"FloodRisk\",\n",
    "#     folder=\"EarthEngineExports\",\n",
    "#     scale=30,\n",
    "#     region=roi,\n",
    "#     maxPixels=1e13\n",
    "# )\n",
    "# task_flood_risk.start()\n",
    "\n",
    "# print(\"Export tasks started. Check your Google Drive for results.\")"
   ]
  },
  {
   "cell_type": "code",
   "execution_count": null,
   "metadata": {},
   "outputs": [],
   "source": [
    "# import ee\n",
    "# import geemap\n",
    "\n",
    "# # Initialize Earth Engine\n",
    "# ee.Initialize()\n",
    "\n",
    "# # Define ROI (Guyana)\n",
    "# gaul = ee.FeatureCollection(\"FAO/GAUL/2015/level0\")\n",
    "# guyana = gaul.filter(ee.Filter.eq(\"ADM0_NAME\", \"Guyana\"))\n",
    "# roi = guyana.geometry()\n",
    "\n",
    "# # Load datasets\n",
    "# srtm = ee.Image(\"USGS/SRTMGL1_003\")\n",
    "# jrc = ee.ImageCollection(\"JRC/GSW1_4/MonthlyHistory\")\n",
    "\n",
    "# # Define time period for flood analysis\n",
    "# start_date = \"2005-01-01\"\n",
    "# end_date = \"2005-12-31\"\n",
    "\n",
    "# # Filter JRC dataset for the time period and region\n",
    "# jrc_filtered = jrc.filterBounds(roi).filterDate(start_date, end_date)\n",
    "\n",
    "# # Exclude permanent water bodies\n",
    "# permanent_water = ee.Image(\"JRC/GSW1_4/GlobalSurfaceWater\").select(\"occurrence\").gte(90)\n",
    "# jrc_filtered = jrc_filtered.map(lambda img: img.updateMask(permanent_water.Not()))\n",
    "\n",
    "# # Step 1: Calculate Flood Frequency\n",
    "# def calculate_flood_frequency(collection):\n",
    "#     def add_bands(img):\n",
    "#         obs = img.gt(0).rename(\"obs\")\n",
    "#         water = img.select(\"water\").eq(2).rename(\"water\")\n",
    "#         return img.addBands([obs, water])\n",
    "    \n",
    "#     collection = collection.map(add_bands)\n",
    "#     total_obs = collection.select(\"obs\").sum().rename(\"total_obs\")\n",
    "#     total_water = collection.select(\"water\").sum().rename(\"total_water\")\n",
    "#     flood_frequency = total_water.divide(total_obs).multiply(100).rename(\"flood_frequency\")\n",
    "#     return flood_frequency.updateMask(flood_frequency.neq(0))\n",
    "\n",
    "# flood_frequency = calculate_flood_frequency(jrc_filtered)\n",
    "\n",
    "# # Step 2: Generate Watersheds\n",
    "# # # Calculate flow direction and accumulation\n",
    "# # flow_dir = ee.Terrain.flowDirection(srtm)\n",
    "# # flow_accum = ee.Terrain.flowAccumulation(srtm)\n",
    "\n",
    "# # # Define threshold for streams\n",
    "# # stream_threshold = 1000\n",
    "# # streams = flow_accum.gte(stream_threshold)\n",
    "\n",
    "# # # Identify pour points (outlets)\n",
    "# # pour_points = streams.updateMask(streams).reduceToVectors(\n",
    "# #     geometryType=\"point\",\n",
    "# #     reducer=ee.Reducer.countEvery(),\n",
    "# #     scale=30,\n",
    "# #     maxPixels=1e9,\n",
    "# # )\n",
    "\n",
    "# # # Compute watersheds\n",
    "# # watersheds = flow_dir.catchment(pour_points, scale=30)\n",
    "\n",
    "# # Step 3: Analyze DEM\n",
    "# # Calculate slope and low-lying areas\n",
    "# slope = ee.Terrain.slope(srtm).rename(\"slope\")\n",
    "# flat_area = slope.lt(5).rename(\"flat_area\")  # Slope < 5 degrees\n",
    "# low_lying = srtm.lt(20).rename(\"low_lying\")  # Elevation < 20 meters\n",
    "\n",
    "# # Step 4: Flood-Prone Areas\n",
    "# flood_prone_area = flood_frequency.updateMask(low_lying.And(flat_area))\n",
    "\n",
    "# # Visualization parameters\n",
    "# dem_vis = {\"min\": 0, \"max\": 50, \"palette\": [\"ffffff\", \"00ff00\", \"007f00\"]}\n",
    "# slope_vis = {\"min\": 0, \"max\": 30, \"palette\": [\"ffffff\", \"ffcc99\", \"ff3300\"]}\n",
    "# flat_area_vis = {\"min\": 0, \"max\": 1, \"palette\": [\"ffffff\", \"0000ff\"]}\n",
    "# flood_frequency_vis = {\"min\": 0, \"max\": 50, \"palette\": [\"ffffff\", \"fffcb8\", \"0905ff\"]}\n",
    "# flood_prone_area_vis = {\"min\": 0, \"max\": 50, \"palette\": [\"ffffff\", \"ff9999\", \"ff0000\"]}\n",
    "# watershed_vis = {\"color\": \"blue\", \"opacity\": 0.5}\n",
    "# stream_vis = {\"min\": 0, \"max\": 1, \"palette\": [\"0000ff\"]}\n",
    "\n",
    "# # Visualization in Map\n",
    "# Map = geemap.Map()\n",
    "# Map.centerObject(roi, 8)\n",
    "\n",
    "# # Add layers\n",
    "# Map.addLayer(srtm.clip(roi), dem_vis, \"SRTM DEM\")\n",
    "# Map.addLayer(slope.clip(roi), slope_vis, \"Slope\")\n",
    "# Map.addLayer(flat_area.clip(roi), flat_area_vis, \"Flat Areas\")\n",
    "# Map.addLayer(flood_frequency.clip(roi), flood_frequency_vis, \"Flood Frequency\")\n",
    "# Map.addLayer(flood_prone_area.clip(roi), flood_prone_area_vis, \"Flood-Prone Areas\")\n",
    "# # Map.addLayer(watersheds, watershed_vis, \"Watersheds\")\n",
    "# # Map.addLayer(streams.clip(roi), stream_vis, \"Streams\")\n",
    "\n",
    "# # Display the Map\n",
    "# Map.addLayerControl()\n",
    "# Map\n"
   ]
  }
 ],
 "metadata": {
  "kernelspec": {
   "display_name": "base",
   "language": "python",
   "name": "python3"
  },
  "language_info": {
   "codemirror_mode": {
    "name": "ipython",
    "version": 3
   },
   "file_extension": ".py",
   "mimetype": "text/x-python",
   "name": "python",
   "nbconvert_exporter": "python",
   "pygments_lexer": "ipython3",
   "version": "3.12.3"
  }
 },
 "nbformat": 4,
 "nbformat_minor": 2
}
