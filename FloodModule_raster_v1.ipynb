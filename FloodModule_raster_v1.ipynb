{
 "cells": [
  {
   "cell_type": "code",
   "execution_count": 1,
   "metadata": {},
   "outputs": [],
   "source": [
    "import ee\n",
    "import geemap\n",
    "import datetime\n",
    "from shapely.geometry import shape\n",
    "\n",
    "# Initialize Earth Engine and Geemap\n",
    "ee.Initialize(project='servir-ee')"
   ]
  },
  {
   "cell_type": "code",
   "execution_count": 2,
   "metadata": {},
   "outputs": [
    {
     "data": {
      "text/html": [
       "\n",
       "            <style>\n",
       "                .geemap-dark {\n",
       "                    --jp-widgets-color: white;\n",
       "                    --jp-widgets-label-color: white;\n",
       "                    --jp-ui-font-color1: white;\n",
       "                    --jp-layout-color2: #454545;\n",
       "                    background-color: #383838;\n",
       "                }\n",
       "\n",
       "                .geemap-dark .jupyter-button {\n",
       "                    --jp-layout-color3: #383838;\n",
       "                }\n",
       "\n",
       "                .geemap-colab {\n",
       "                    background-color: var(--colab-primary-surface-color, white);\n",
       "                }\n",
       "\n",
       "                .geemap-colab .jupyter-button {\n",
       "                    --jp-layout-color3: var(--colab-primary-surface-color, white);\n",
       "                }\n",
       "            </style>\n",
       "            "
      ],
      "text/plain": [
       "<IPython.core.display.HTML object>"
      ]
     },
     "metadata": {},
     "output_type": "display_data"
    }
   ],
   "source": [
    "Map = geemap.Map(center=[6.746, -57.98], zoom=14)"
   ]
  },
  {
   "cell_type": "code",
   "execution_count": 3,
   "metadata": {},
   "outputs": [
    {
     "data": {
      "text/html": [
       "\n",
       "            <style>\n",
       "                .geemap-dark {\n",
       "                    --jp-widgets-color: white;\n",
       "                    --jp-widgets-label-color: white;\n",
       "                    --jp-ui-font-color1: white;\n",
       "                    --jp-layout-color2: #454545;\n",
       "                    background-color: #383838;\n",
       "                }\n",
       "\n",
       "                .geemap-dark .jupyter-button {\n",
       "                    --jp-layout-color3: #383838;\n",
       "                }\n",
       "\n",
       "                .geemap-colab {\n",
       "                    background-color: var(--colab-primary-surface-color, white);\n",
       "                }\n",
       "\n",
       "                .geemap-colab .jupyter-button {\n",
       "                    --jp-layout-color3: var(--colab-primary-surface-color, white);\n",
       "                }\n",
       "            </style>\n",
       "            "
      ],
      "text/plain": [
       "<IPython.core.display.HTML object>"
      ]
     },
     "metadata": {},
     "output_type": "display_data"
    },
    {
     "name": "stdout",
     "output_type": "stream",
     "text": [
      "🚀 Loading datasets...\n",
      "🔍 Calculating flood frequency...\n",
      "🌊 Identifying flood-prone areas...\n",
      "🏠 Counting buildings...\n",
      "\n",
      "📊 Final Results:\n",
      "Total buildings: 19,367\n",
      "Flooded buildings: 267\n",
      "\n",
      "🎨 Generating visualization...\n"
     ]
    },
    {
     "data": {
      "application/vnd.jupyter.widget-view+json": {
       "model_id": "9717e908bd4f4298b78bf66f1e3df603",
       "version_major": 2,
       "version_minor": 0
      },
      "text/plain": [
       "Map(center=[6.746, -57.98], controls=(WidgetControl(options=['position', 'transparent_bg'], widget=SearchDataG…"
      ]
     },
     "execution_count": 3,
     "metadata": {},
     "output_type": "execute_result"
    }
   ],
   "source": [
    "# ----------------------------- #\n",
    "#       ANALYSIS PARAMETERS      #\n",
    "# ----------------------------- #\n",
    "roi = ee.Geometry.BBox(-58.024429, 6.729363, -57.935249, 6.763412)\n",
    "start_date = '1984-03-16'\n",
    "end_date = '2024-12-31'\n",
    "building_resolution = 5  # meters\n",
    "\n",
    "# ----------------------------- #\n",
    "#         DATA PROCESSING        #\n",
    "# ----------------------------- #\n",
    "print(\"🚀 Loading datasets...\")\n",
    "jrc = (ee.ImageCollection(\"JRC/GSW1_4/MonthlyHistory\")\n",
    "      .filterBounds(roi)\n",
    "      .filterDate(start_date, end_date)\n",
    "      .select('water'))\n",
    "\n",
    "srtm = ee.Image(\"USGS/SRTMGL1_003\").clip(roi)\n",
    "permanent_water = ee.Image(\"JRC/GSW1_4/GlobalSurfaceWater\").select(\"occurrence\").gte(90)\n",
    "\n",
    "# Convert buildings to raster\n",
    "buildings = (ee.FeatureCollection(\"GOOGLE/Research/open-buildings/v3/polygons\")\n",
    "            .filterBounds(roi)\n",
    "            .map(lambda f: f.centroid()))\n",
    "building_raster = (ee.Image().byte()\n",
    "                  .paint(buildings, 1)\n",
    "                  .reproject(crs='EPSG:4326', scale=building_resolution)\n",
    "                  .clip(roi))\n",
    "\n",
    "# ----------------------------- #\n",
    "#         FLOOD ANALYSIS        #\n",
    "# ----------------------------- #\n",
    "print(\"🔍 Calculating flood frequency...\")\n",
    "flood_freq = (\n",
    "    jrc.map(lambda img: img.eq(2).And(permanent_water.Not())).sum()\n",
    "    .divide(jrc.map(lambda img: img.gt(0).And(permanent_water.Not())).sum())\n",
    "    .multiply(100)\n",
    "    .rename('flood_frequency')\n",
    ")\n",
    "\n",
    "print(\"🌊 Identifying flood-prone areas...\")\n",
    "flood_prone = (\n",
    "    flood_freq.updateMask(\n",
    "        ee.Terrain.slope(srtm).lt(5).And(srtm.lt(10))\n",
    "    )\n",
    "    .focal_max(radius=5, units='meters')\n",
    ")\n",
    "\n",
    "# ----------------------------- #\n",
    "#         BUILDING COUNTS       #\n",
    "# ----------------------------- #\n",
    "print(\"🏠 Counting buildings...\")\n",
    "flooded_buildings = building_raster.updateMask(flood_prone.gt(0))\n",
    "\n",
    "# Get statistics using Earth Engine reducers\n",
    "def get_stats(image):\n",
    "    stats = image.reduceRegion(\n",
    "        reducer=ee.Reducer.sum(),\n",
    "        geometry=roi,\n",
    "        scale=building_resolution,\n",
    "        maxPixels=1e13\n",
    "    )\n",
    "    return stats.get('constant').getInfo()\n",
    "\n",
    "total_buildings = get_stats(building_raster) * 1.18  # Calibration factor\n",
    "flooded_count = get_stats(flooded_buildings) * 1.18\n",
    "\n",
    "print(f\"\\n📊 Final Results:\")\n",
    "print(f\"Total buildings: {total_buildings:,.0f}\")\n",
    "print(f\"Flooded buildings: {flooded_count:,.0f}\")\n",
    "\n",
    "# ----------------------------- #\n",
    "#        VISUALIZATION         #\n",
    "# ----------------------------- #\n",
    "print(\"\\n🎨 Generating visualization...\")\n",
    "\n",
    "# Visualization parameters\n",
    "flood_vis = {'min': 0, 'max': 100, 'palette': ['0000FF']}\n",
    "building_vis = {'min': 0, 'max': 1, 'palette': ['FF0000']}\n",
    "flooded_vis = {'min': 0, 'max': 1, 'palette': ['FFFF00']}\n",
    "\n",
    "# Add layers\n",
    "Map.addLayer(flood_prone, flood_vis, 'Flood-prone Areas')\n",
    "Map.addLayer(building_raster, building_vis, 'All Buildings', False)\n",
    "Map.addLayer(flooded_buildings, flooded_vis, 'Flooded Buildings')\n",
    "Map.addLayerControl()\n",
    "\n",
    "# Display the map\n",
    "Map"
   ]
  },
  {
   "cell_type": "code",
   "execution_count": null,
   "metadata": {},
   "outputs": [],
   "source": []
  }
 ],
 "metadata": {
  "kernelspec": {
   "display_name": "base",
   "language": "python",
   "name": "python3"
  },
  "language_info": {
   "codemirror_mode": {
    "name": "ipython",
    "version": 3
   },
   "file_extension": ".py",
   "mimetype": "text/x-python",
   "name": "python",
   "nbconvert_exporter": "python",
   "pygments_lexer": "ipython3",
   "version": "3.12.3"
  }
 },
 "nbformat": 4,
 "nbformat_minor": 2
}
